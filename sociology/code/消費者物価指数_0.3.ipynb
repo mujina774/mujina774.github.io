{
 "cells": [
  {
   "cell_type": "code",
   "execution_count": 1,
   "id": "863309e5-1ce3-494b-8d4b-6617fab3dd8c",
   "metadata": {},
   "outputs": [],
   "source": [
    "import matplotlib.pyplot as plt\n",
    "import numpy as np\n",
    "import matplotlib\n",
    "import xlrd\n",
    "import openpyxl\n",
    "import datetime\n",
    "\n",
    "matplotlib.rc('font', family='BIZ UDGothic')"
   ]
  },
  {
   "cell_type": "code",
   "execution_count": 2,
   "id": "5b0b0fd7-32d9-417b-85b4-cdb9d75ba046",
   "metadata": {},
   "outputs": [
    {
     "name": "stdout",
     "output_type": "stream",
     "text": [
      "<class 'openpyxl.workbook.workbook.Workbook'>\n",
      "['bm01-1', 'bm01-1 (2)', 'bm01-1 (3)']\n"
     ]
    }
   ],
   "source": [
    "wb = openpyxl.load_workbook('06-2024_bm01-1.xlsx')\n",
    "print(type(wb))\n",
    "print(wb.sheetnames)"
   ]
  },
  {
   "cell_type": "code",
   "execution_count": 3,
   "id": "71b13641-c818-4f0e-9830-ce16a8e60afc",
   "metadata": {},
   "outputs": [
    {
     "name": "stdout",
     "output_type": "stream",
     "text": [
      "<class 'openpyxl.worksheet.worksheet.Worksheet'>\n"
     ]
    }
   ],
   "source": [
    "sheet = wb['bm01-1']\n",
    "print(type(sheet))"
   ]
  },
  {
   "cell_type": "code",
   "execution_count": 4,
   "id": "c06178a4-f05c-420a-92e5-76445abd6493",
   "metadata": {},
   "outputs": [
    {
     "name": "stdout",
     "output_type": "stream",
     "text": [
      "<Cell 'bm01-1'.I4>\n",
      "<class 'openpyxl.cell.cell.Cell'>\n",
      "2020年基準消費者物価指数\n"
     ]
    }
   ],
   "source": [
    "cell = sheet.cell(4, 9)\n",
    "\n",
    "print(cell)\n",
    "print(type(cell))\n",
    "print(cell.value)"
   ]
  },
  {
   "cell_type": "code",
   "execution_count": 5,
   "id": "6bf4b8a4-9719-4c7f-9288-c22581dfcf80",
   "metadata": {},
   "outputs": [],
   "source": [
    "def value_list(t_2d):\n",
    "    return([[cell.value for cell in row] for row in t_2d])"
   ]
  },
  {
   "cell_type": "markdown",
   "id": "8f0792a0-b716-4407-a00b-d5a489cb6c5c",
   "metadata": {},
   "source": [
    "### エネルギー はCI列"
   ]
  },
  {
   "cell_type": "code",
   "execution_count": 14,
   "id": "b0ab0ff2-f5c9-4cc3-937a-f07584d99a47",
   "metadata": {},
   "outputs": [],
   "source": [
    "data = value_list(sheet['I10:CI668'])"
   ]
  },
  {
   "cell_type": "code",
   "execution_count": 15,
   "id": "d5ef15e6-46ce-49be-ad28-dc36b130a378",
   "metadata": {},
   "outputs": [
    {
     "name": "stdout",
     "output_type": "stream",
     "text": [
      "(659, 79)\n"
     ]
    }
   ],
   "source": [
    "data = np.array(data)\n",
    "print(data.shape)"
   ]
  },
  {
   "cell_type": "code",
   "execution_count": 16,
   "id": "e2760645-0f94-4cc5-9022-ca77db13bc26",
   "metadata": {},
   "outputs": [],
   "source": [
    "data0 = np.delete(data, slice(1, 5), 0)         # 行がaxis = 0"
   ]
  },
  {
   "cell_type": "code",
   "execution_count": 17,
   "id": "598326c0-2afc-4a9d-8c39-691611f28de6",
   "metadata": {},
   "outputs": [
    {
     "name": "stdout",
     "output_type": "stream",
     "text": [
      "[None None None '類・品目' '総合']\n"
     ]
    }
   ],
   "source": [
    "print(data0[0, 0:5])"
   ]
  },
  {
   "cell_type": "code",
   "execution_count": 18,
   "id": "86450c73-f192-48c3-845b-e7ca978efddf",
   "metadata": {},
   "outputs": [
    {
     "name": "stdout",
     "output_type": "stream",
     "text": [
      "[[None '総合' '生鮮食品を除く総合' '持家の帰属家賃を除く総合' '持家の帰属家賃及び生鮮食品を除く総合'\n",
      "  '生鮮食品及びエネルギーを除く総合' '食料（酒類を除く）及びエネルギーを除く総合' '食料' '生鮮食品' '生鮮食品を除く食料']\n",
      " ['1970年1月' 30.3 30.5 30.5 30.9 30.3 30.7 28.2 24.3 29.2]]\n",
      "(655, 76)\n"
     ]
    }
   ],
   "source": [
    "data1 = np.delete(data0, slice(1, 4), 1)      \n",
    "print(data1[0:2, :10])\n",
    "print(data1.shape)"
   ]
  },
  {
   "cell_type": "code",
   "execution_count": 19,
   "id": "266847f0-8471-4094-92c4-689ca5e70537",
   "metadata": {},
   "outputs": [
    {
     "name": "stdout",
     "output_type": "stream",
     "text": [
      "['生鮮食品を除く食料' '穀類' '魚介類' '生鮮魚介' '肉類' '乳卵類' '野菜・海藻' '生鮮野菜' '果物' '生鮮果物'\n",
      " '油脂・調味料' '菓子類' '調理食品' '飲料' '酒類' '外食' '住居' '持家の帰属家賃を除く住居' '家賃'\n",
      " '持家の帰属家賃を除く家賃' '設備修繕・維持' '光熱・水道' '電気代' 'ガス代' '他の光熱' '上下水道料' '家具・家事用品'\n",
      " '家庭用耐久財' '室内装備品' '寝具類' '家事雑貨' '家事用消耗品' '家事サービス' '被服及び履物' '衣料' '和服' '洋服'\n",
      " 'シャツ・セーター・下着類' 'シャツ・セーター類' '下着類' '履物類' '他の被服' '被服関連サービス' '保健医療'\n",
      " '医薬品・健康保持用摂取品' '保健医療用品・器具' '保健医療サービス' '交通・通信' '交通' '自動車等関係費' '通信' '教育'\n",
      " '授業料等' '教科書・学習参考教材' '補習教育' '教養娯楽' '教養娯楽用耐久財' '教養娯楽用品' '書籍・他の印刷物'\n",
      " '教養娯楽サービス' '諸雑費' '理美容サービス' '理美容用品' '身の回り用品' 'たばこ' '他の諸雑費' 'エネルギー']\n",
      "[['穀類' '魚介類' '生鮮魚介' '肉類' '乳卵類' '野菜・海藻' '生鮮野菜' '果物' '生鮮果物' '油脂・調味料' '菓子類'\n",
      "  '調理食品' '飲料' '酒類' '外食' '住居' '持家の帰属家賃を除く住居' '家賃' '持家の帰属家賃を除く家賃' '設備修繕・維持'\n",
      "  '光熱・水道' '電気代' 'ガス代' '他の光熱' '上下水道料' '家具・家事用品' '家庭用耐久財' '室内装備品' '寝具類'\n",
      "  '家事雑貨' '家事用消耗品' '家事サービス' '被服及び履物' '衣料' '和服' '洋服' 'シャツ・セーター・下着類'\n",
      "  'シャツ・セーター類' '下着類' '履物類' '他の被服' '被服関連サービス' '保健医療' '医薬品・健康保持用摂取品'\n",
      "  '保健医療用品・器具' '保健医療サービス' '交通・通信' '交通' '自動車等関係費' '通信' '教育' '授業料等'\n",
      "  '教科書・学習参考教材' '補習教育' '教養娯楽' '教養娯楽用耐久財' '教養娯楽用品' '書籍・他の印刷物' '教養娯楽サービス'\n",
      "  '諸雑費' '理美容サービス' '理美容用品' '身の回り用品' 'たばこ' '他の諸雑費']\n",
      " [32.9 20.4 22.2 34 48.4 23.4 24.7 27.5 26.8 45.3 25.4 19.9 51.8 42.5\n",
      "  21.7 25.4 23.1 27.6 29.6 18 30.2 54.9 26 17 '- ' 70.9 205.1 69.6 57.7\n",
      "  27.5 65.2 17.4 26.5 24.4 21.7 25.7 29.4 28.5 28.9 25.7 36.5 22.6 35.3\n",
      "  48.2 49.2 24.7 39 18.9 45.7 87.1 14.6 13.6 25.9 '- ' 37.7 2021.4 35.5\n",
      "  17.9 23.2 27.4 14.1 65.9 22.8 20.2 11.7]]\n"
     ]
    }
   ],
   "source": [
    "print(data1[0, 9:76])\n",
    "print(data1[0:2, 10:75])"
   ]
  },
  {
   "cell_type": "code",
   "execution_count": 20,
   "id": "9b9ae3dc-ad20-444f-b5a5-9cbae2ac637f",
   "metadata": {},
   "outputs": [
    {
     "name": "stdout",
     "output_type": "stream",
     "text": [
      "[[None '総合' '生鮮食品を除く総合' '持家の帰属家賃を除く総合' '持家の帰属家賃及び生鮮食品を除く総合'\n",
      "  '生鮮食品及びエネルギーを除く総合' '食料（酒類を除く）及びエネルギーを除く総合' '食料' '生鮮食品' '生鮮食品を除く食料'\n",
      "  'エネルギー']\n",
      " ['1970年1月' 30.3 30.5 30.5 30.9 30.3 30.7 28.2 24.3 29.2 35.1]]\n",
      "(655, 11)\n"
     ]
    }
   ],
   "source": [
    "data2 = np.delete(data1, slice(10, 75), 1)      \n",
    "print(data2[0:2, :])\n",
    "print(data2.shape)"
   ]
  },
  {
   "cell_type": "code",
   "execution_count": 21,
   "id": "5ec4a7e8-2e77-4c7a-8aee-35b7c8edc0f0",
   "metadata": {},
   "outputs": [
    {
     "name": "stdout",
     "output_type": "stream",
     "text": [
      "(654, 10)\n"
     ]
    }
   ],
   "source": [
    "index = data2[0, :]\n",
    "label = data2[1:, 0]\n",
    "data = np.array(data2[1:, 1:], dtype = 'i4')\n",
    "print(data.shape)"
   ]
  },
  {
   "cell_type": "code",
   "execution_count": 22,
   "id": "6144c0fd-c681-42bd-9cef-2c7f295c80f5",
   "metadata": {},
   "outputs": [],
   "source": [
    "def todate(a):\n",
    "    tdatetime = datetime.datetime.strptime(a, '%Y-%m-%d')\n",
    "    return(datetime.date(tdatetime.year, tdatetime.month, tdatetime.day))"
   ]
  },
  {
   "cell_type": "code",
   "execution_count": 23,
   "id": "e06555b0-9165-465d-bf3b-42df673f62bc",
   "metadata": {},
   "outputs": [],
   "source": [
    "replace_list = [l.replace('年', '-') for l in label]"
   ]
  },
  {
   "cell_type": "code",
   "execution_count": 24,
   "id": "39a298f1-0cbc-432e-a244-60f1d72d5073",
   "metadata": {},
   "outputs": [],
   "source": [
    "replace_lista = [l.replace('月', '-1') for l in replace_list]"
   ]
  },
  {
   "cell_type": "code",
   "execution_count": 25,
   "id": "57a35c1b-6c2d-4161-a5ba-699bd82ccda9",
   "metadata": {},
   "outputs": [],
   "source": [
    "label0 = np.array([todate(l) for l in replace_lista])"
   ]
  },
  {
   "cell_type": "code",
   "execution_count": 26,
   "id": "fa44efe4-09f7-4e8e-9e9d-23bf61add116",
   "metadata": {},
   "outputs": [
    {
     "name": "stdout",
     "output_type": "stream",
     "text": [
      "object\n"
     ]
    }
   ],
   "source": [
    "print(label0.dtype)"
   ]
  },
  {
   "cell_type": "code",
   "execution_count": 27,
   "id": "2beb00e8-85f2-455b-9de9-a65ee6284db7",
   "metadata": {},
   "outputs": [
    {
     "data": {
      "text/plain": [
       "(11,)"
      ]
     },
     "execution_count": 27,
     "metadata": {},
     "output_type": "execute_result"
    }
   ],
   "source": [
    "index.shape"
   ]
  },
  {
   "cell_type": "code",
   "execution_count": 62,
   "id": "ab4d15c5-7547-4932-80db-de22eaec2a63",
   "metadata": {},
   "outputs": [],
   "source": [
    "np.savez('npCPI', index = index, months = label0, data = data )"
   ]
  },
  {
   "cell_type": "code",
   "execution_count": null,
   "id": "3066d802-09cf-429b-8b3c-f2c400ec96d6",
   "metadata": {},
   "outputs": [],
   "source": []
  }
 ],
 "metadata": {
  "kernelspec": {
   "display_name": "Python 3 (ipykernel)",
   "language": "python",
   "name": "python3"
  },
  "language_info": {
   "codemirror_mode": {
    "name": "ipython",
    "version": 3
   },
   "file_extension": ".py",
   "mimetype": "text/x-python",
   "name": "python",
   "nbconvert_exporter": "python",
   "pygments_lexer": "ipython3",
   "version": "3.12.4"
  }
 },
 "nbformat": 4,
 "nbformat_minor": 5
}
